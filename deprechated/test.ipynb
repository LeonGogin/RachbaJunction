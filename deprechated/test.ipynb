{
 "cells": [
  {
   "cell_type": "code",
   "execution_count": 1,
   "metadata": {
    "ExecuteTime": {
     "end_time": "2021-03-15T18:59:22.718321Z",
     "start_time": "2021-03-15T18:59:22.100941Z"
    }
   },
   "outputs": [],
   "source": [
    "import numpy as np\n",
    "import scipy.constants as cc\n",
    "\n",
    "from tabulate import tabulate\n",
    "\n",
    "import matplotlib.pyplot as plt\n",
    "\n",
    "from RachbaJunction import RachbaJunction\n",
    "from RachbaJunction.utilities import *"
   ]
  },
  {
   "cell_type": "markdown",
   "metadata": {},
   "source": [
    "# uniform profile"
   ]
  },
  {
   "cell_type": "code",
   "execution_count": 2,
   "metadata": {
    "ExecuteTime": {
     "end_time": "2021-03-15T18:59:23.867279Z",
     "start_time": "2021-03-15T18:59:23.846795Z"
    }
   },
   "outputs": [
    {
     "name": "stdout",
     "output_type": "stream",
     "text": [
      "1.0\n"
     ]
    }
   ],
   "source": [
    "alpha = [5, 5, 5]\n",
    "profile = [-9, 9]\n",
    "\n",
    "junction = RachbaJunction([profile, alpha], logg=False)\n",
    "\n",
    "S = junction.get_scattering_matrix(-0.1)\n",
    "print(S.t_coef)"
   ]
  },
  {
   "cell_type": "markdown",
   "metadata": {},
   "source": [
    "# inhomogeneous in one region"
   ]
  },
  {
   "cell_type": "code",
   "execution_count": 3,
   "metadata": {
    "ExecuteTime": {
     "end_time": "2021-03-15T18:59:25.832269Z",
     "start_time": "2021-03-15T18:59:25.815129Z"
    }
   },
   "outputs": [
    {
     "name": "stdout",
     "output_type": "stream",
     "text": [
      "0.06286539168827206\n",
      "0.06286539168827203\n"
     ]
    }
   ],
   "source": [
    "alpha = [5, 5, -3]\n",
    "profile = [-9, 9]\n",
    "\n",
    "junction = RachbaJunction([profile, alpha], logg=False)\n",
    "\n",
    "S = junction.get_scattering_matrix(-0.1)\n",
    "print(S.t_coef)\n",
    "\n",
    "alpha = [5, -3]\n",
    "profile = [0]\n",
    "\n",
    "junction2 = RachbaJunction([profile, alpha], logg=False)\n",
    "\n",
    "S2 = junction2.get_scattering_matrix(-0.1)\n",
    "print(S2.t_coef)"
   ]
  },
  {
   "cell_type": "code",
   "execution_count": 4,
   "metadata": {
    "ExecuteTime": {
     "end_time": "2021-03-15T18:59:28.544729Z",
     "start_time": "2021-03-15T18:59:28.523846Z"
    }
   },
   "outputs": [
    {
     "name": "stdout",
     "output_type": "stream",
     "text": [
      "0.06286539168827215\n",
      "0.06286539168827208\n"
     ]
    }
   ],
   "source": [
    "alpha = [-3, 5, 5]\n",
    "profile = [-9, 9]\n",
    "\n",
    "junction = RachbaJunction([profile, alpha], logg=False)\n",
    "\n",
    "S = junction.get_scattering_matrix(-0.1)\n",
    "print(S.t_coef)\n",
    "\n",
    "alpha = [-3, 5]\n",
    "profile = [0]\n",
    "\n",
    "junction2 = RachbaJunction([profile, alpha], logg=False)\n",
    "\n",
    "S2 = junction2.get_scattering_matrix(-0.1)\n",
    "print(S2.t_coef)"
   ]
  },
  {
   "cell_type": "markdown",
   "metadata": {},
   "source": [
    "# small internal region"
   ]
  },
  {
   "cell_type": "code",
   "execution_count": 5,
   "metadata": {
    "ExecuteTime": {
     "end_time": "2021-03-15T18:59:35.017173Z",
     "start_time": "2021-03-15T18:59:35.003625Z"
    }
   },
   "outputs": [
    {
     "name": "stdout",
     "output_type": "stream",
     "text": [
      "k_so 0.010536483509235984\n",
      "alpha 0.22777997971488562\n",
      "x' 0.0008780402924363324\n",
      "0.0010536483509235985\n"
     ]
    }
   ],
   "source": [
    "hbar = 6.582119569e-16\n",
    "m = 0.022*cc.m_e\n",
    "h_xy = 0.2e-2\n",
    "\n",
    "E_so = 0.6\n",
    "alpha = np.sqrt(E_so*h_xy*2/m)*hbar\n",
    "\n",
    "k_so = m*alpha/hbar**2\n",
    "\n",
    "x = 0.1\n",
    "x_prime = h_xy/alpha *x\n",
    "print(f\"k_so {k_so}\")\n",
    "print(f\"alpha {alpha}\")\n",
    "\n",
    "print(f\"x' {x_prime}\")\n",
    "\n",
    "print(x*k_so)"
   ]
  },
  {
   "cell_type": "code",
   "execution_count": 6,
   "metadata": {
    "ExecuteTime": {
     "end_time": "2021-03-15T18:59:35.600558Z",
     "start_time": "2021-03-15T18:59:35.580197Z"
    }
   },
   "outputs": [
    {
     "name": "stdout",
     "output_type": "stream",
     "text": [
      "0.032617641459232745\n",
      "0.03201082220423954\n"
     ]
    }
   ],
   "source": [
    "alpha = [5, E_so, -6]\n",
    "profile = [0, x_prime]\n",
    "\n",
    "junction = RachbaJunction([profile, alpha], logg=False)\n",
    "\n",
    "S = junction.get_scattering_matrix(-0.1)\n",
    "print(S.t_coef)\n",
    "\n",
    "alpha = [5, -6]\n",
    "profile = [0]\n",
    "\n",
    "junction2 = RachbaJunction([profile, alpha], logg=False)\n",
    "\n",
    "S2 = junction2.get_scattering_matrix(-0.1)\n",
    "print(S2.t_coef)"
   ]
  },
  {
   "cell_type": "code",
   "execution_count": null,
   "metadata": {},
   "outputs": [],
   "source": []
  }
 ],
 "metadata": {
  "@webio": {
   "lastCommId": null,
   "lastKernelId": null
  },
  "hide_input": false,
  "kernelspec": {
   "display_name": "Python 3",
   "language": "python",
   "name": "python3"
  },
  "language_info": {
   "codemirror_mode": {
    "name": "ipython",
    "version": 3
   },
   "file_extension": ".py",
   "mimetype": "text/x-python",
   "name": "python",
   "nbconvert_exporter": "python",
   "pygments_lexer": "ipython3",
   "version": "3.7.2"
  },
  "toc": {
   "base_numbering": 1,
   "nav_menu": {},
   "number_sections": true,
   "sideBar": true,
   "skip_h1_title": false,
   "title_cell": "Table of Contents",
   "title_sidebar": "Contents",
   "toc_cell": false,
   "toc_position": {},
   "toc_section_display": true,
   "toc_window_display": false
  },
  "varInspector": {
   "cols": {
    "lenName": 16,
    "lenType": 16,
    "lenVar": 40
   },
   "kernels_config": {
    "python": {
     "delete_cmd_postfix": "",
     "delete_cmd_prefix": "del ",
     "library": "var_list.py",
     "varRefreshCmd": "print(var_dic_list())"
    },
    "r": {
     "delete_cmd_postfix": ") ",
     "delete_cmd_prefix": "rm(",
     "library": "var_list.r",
     "varRefreshCmd": "cat(var_dic_list()) "
    }
   },
   "types_to_exclude": [
    "module",
    "function",
    "builtin_function_or_method",
    "instance",
    "_Feature"
   ],
   "window_display": false
  }
 },
 "nbformat": 4,
 "nbformat_minor": 4
}
