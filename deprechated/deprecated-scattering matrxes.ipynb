{
 "cells": [
  {
   "cell_type": "code",
   "execution_count": 1,
   "metadata": {
    "ExecuteTime": {
     "end_time": "2021-03-12T13:36:17.763134Z",
     "start_time": "2021-03-12T13:36:17.324523Z"
    }
   },
   "outputs": [],
   "source": [
    "import numpy as np\n",
    "import scipy.constants as cc\n",
    "\n",
    "import matplotlib.pyplot as plt\n",
    "\n",
    "from RachbaJunction import RachbaJunction\n",
    "from RachbaJunction.utilities import *"
   ]
  },
  {
   "cell_type": "code",
   "execution_count": 6,
   "metadata": {
    "ExecuteTime": {
     "end_time": "2021-03-12T13:38:23.909194Z",
     "start_time": "2021-03-12T13:38:23.862115Z"
    },
    "scrolled": false
   },
   "outputs": [
    {
     "name": "stdout",
     "output_type": "stream",
     "text": [
      "DEBUG -  0: X_i+ boundary matrix\n",
      "\talpha = 0.8\n",
      "\tx_i = 0\n",
      "\tE_so = 0.014802331298720254\n",
      "\th_xy = 0.002\n",
      "INFO - -->Rashba regime\n",
      "INFO - \tout of gap energy range\n",
      "DEBUG - \t\trigth lead\n",
      "DEBUG - \t\t-->b - velcity 1574736996552840.8\n",
      "DEBUG - \t\t-->a - velcity -1574736996552840.8\n",
      "DEBUG - \t\t-->b - velcity 1533895044265939.2\n",
      "DEBUG - \t\t-->a - velcity -1533895044265939.2\n",
      "DEBUG -  0: X_i- boundary matrix\n",
      "\talpha = 1\n",
      "\tx_i = 0\n",
      "\tE_so = 0.02312864265425039\n",
      "\th_xy = 0.002\n",
      "INFO - -->Rashba regime\n",
      "INFO - \tout of gap energy range\n",
      "DEBUG - \t\trigth lead\n",
      "DEBUG - \t\t-->b - velcity 1819114879160344.8\n",
      "DEBUG - \t\t-->a - velcity -1819114879160344.8\n",
      "DEBUG - \t\t-->b - velcity 1775375394515770.2\n",
      "DEBUG - \t\t-->a - velcity -1775375394515770.2\n"
     ]
    }
   ],
   "source": [
    "alpha = [1, -1]\n",
    "profile = [0]\n",
    "\n",
    "junction = RachbaJunction([(0, 1), (0, 0.8)], [0.2e-2, 0, 0], logg = True)\n",
    "\n",
    "M_tot, vel_factor = junction.get_transfer_matrix(0.01)\n",
    "# M_tot = set_zeros(M_tot)\n",
    "# M_tot = junction.get_transfer_matrix(0.001)\n"
   ]
  },
  {
   "cell_type": "code",
   "execution_count": 7,
   "metadata": {
    "ExecuteTime": {
     "end_time": "2021-03-12T13:38:25.270393Z",
     "start_time": "2021-03-12T13:38:25.247500Z"
    },
    "scrolled": false
   },
   "outputs": [
    {
     "name": "stdout",
     "output_type": "stream",
     "text": [
      "------------  -----------  ------------  -----------\n",
      " 1.0212       0.000141494  -1.07786e-05  0.000772564\n",
      " 0.000141494  1             1.77541e-15  1.27849e-15\n",
      "-1.07786e-05  1.77541e-15   1            1.69571e-14\n",
      " 0.000772564  1.27849e-15   1.69571e-14  1\n",
      "------------  -----------  ------------  -----------\n",
      "-  -  -  -\n",
      "0  0  0  0\n",
      "0  0  0  0\n",
      "0  0  0  0\n",
      "0  0  0  0\n",
      "-  -  -  -\n",
      "\n",
      "\n",
      "\n",
      "scattering matrix\n",
      "\treal part\n",
      "-  -  -  -\n",
      "0  0  0  0\n",
      "0  0  0  0\n",
      "0  0  0  0\n",
      "0  0  0  0\n",
      "-  -  -  -\n",
      "\timmaginary part\n",
      "------------  ------------  ----------  ----------\n",
      " 0.000980186  -0.0730555    -0.99723    -0.0139131\n",
      " 0.0730555     0.000980186   0.0139131  -0.99723\n",
      "-1.00781      -0.0139131     0.0010583  -0.0730544\n",
      " 0.0139187    -0.99723       0.0730544   0.0010583\n",
      "------------  ------------  ----------  ----------\n",
      "inverse vs complex conjugated: False\n",
      "inverse vs transpose complex conjugated: False\n",
      "\n",
      "\n",
      "\n",
      "trasmission coefficient: (0,1);(1,0)\n",
      "0.00533711016544011\n",
      "0.00533711016544009\n",
      "\n",
      "\n",
      "\n",
      "reflection coefficient:(0,0);(1,1)\n",
      "9.607649210296617e-07\n",
      "9.607649210266422e-07\n",
      "\n",
      "\n",
      "\n",
      "0.00533807093036112\n",
      "0.005338070930361137\n",
      "\n",
      "\n",
      "\n",
      "0.00533807093036114\n",
      "0.0053380709303611175\n"
     ]
    }
   ],
   "source": [
    "ft = (M_tot[1,1]*M_tot[3,3])/(M_tot[1,1]*M_tot[3,3] - M_tot[1,3]*M_tot[3,1])\n",
    "\n",
    "sig_11 = ft*(M_tot[1,3]*M_tot[3,0] - M_tot[1,0]*M_tot[3,3])/(M_tot[1,1]*M_tot[3,3])\n",
    "\n",
    "sig_12 = ft*(M_tot[1,3]*M_tot[3,2] - M_tot[1,2]*M_tot[3,3])/(M_tot[1,1]*M_tot[3,3])\n",
    "\n",
    "sig_13 = ft/M_tot[1,1]\n",
    "\n",
    "sig_14 = -ft*M_tot[1,3]/(M_tot[1,1]*M_tot[3,3])\n",
    "\n",
    "sig_21 = -(M_tot[3,0] + M_tot[3,1]*sig_11)/M_tot[3,3]\n",
    "\n",
    "sig_22 = -(M_tot[3,1]*sig_12 + M_tot[3,2])/M_tot[3,3]\n",
    "\n",
    "sig_23 = -M_tot[3,1]*sig_13/M_tot[3,3]\n",
    "\n",
    "sig_24 = (1 - M_tot[3,1]*sig_14)/M_tot[3,3]\n",
    "\n",
    "sig_31 = M_tot[0,0] + M_tot[0,1]*sig_11 + M_tot[0,3]*sig_12\n",
    "\n",
    "sig_32 = M_tot[0,2] + M_tot[0,1]*sig_12 + M_tot[0,3]*sig_22\n",
    "\n",
    "sig_33 = M_tot[0,1]*sig_13 + M_tot[0,3]*sig_23\n",
    "\n",
    "sig_34 = M_tot[0,1]*sig_14 + M_tot[0,3]*sig_24\n",
    "\n",
    "sig_41 = M_tot[2,0] + M_tot[2,1]*sig_11 + M_tot[2,3]*sig_12\n",
    "\n",
    "sig_42 = M_tot[2,2] + M_tot[2,1]*sig_12 + M_tot[2,3]*sig_22\n",
    "\n",
    "sig_43 = M_tot[2,1]*sig_13 + M_tot[2,3]*sig_23\n",
    "\n",
    "sig_44 = M_tot[2,1]*sig_14 + M_tot[2,3]*sig_24\n",
    "\n",
    "\n",
    "S = np.array([[sig_11, sig_12, sig_13, sig_14], [sig_21, sig_22, sig_23, sig_24], [sig_31, sig_32, sig_33, sig_34], [sig_41, sig_42, sig_43, sig_44]])\n",
    "\n",
    "# S, _ =  S_rashba_rashba(M_tot)\n",
    "\n",
    "S = vel_factor * S\n",
    "\n",
    "# print(set_zeros(np.matmul(S.T.conj(), S)))\n",
    "print(tabulate(set_zeros(np.matmul(S.T.conj(), S)).real))\n",
    "print(tabulate(set_zeros(np.matmul(S.T.conj(), S)).imag))\n",
    "print(\"\\n\\n\")\n",
    "\n",
    "# print(tabulate(S.real))\n",
    "# print(tabulate(S.imag))\n",
    "\n",
    "\n",
    "# print(np.matmul(S.T.conj(), S))\n",
    "\n",
    "scater_matrix_iunfo(S)"
   ]
  },
  {
   "cell_type": "code",
   "execution_count": 5,
   "metadata": {
    "ExecuteTime": {
     "end_time": "2021-03-12T13:37:40.369699Z",
     "start_time": "2021-03-12T13:37:40.360331Z"
    },
    "scrolled": false
   },
   "outputs": [
    {
     "name": "stdout",
     "output_type": "stream",
     "text": [
      "[[ 6.89264301e-05+0.00620141j  8.94859960e-01+0.00090226j]\n",
      " [ 1.11744917e+00+0.00112669j -8.14316644e-05+0.00620126j]]\n",
      "[[ 1.00000000e+00+0.00000000e+00j -1.35068138e-16+2.16619528e-15j]\n",
      " [-1.35068138e-16-2.16619528e-15j  1.00000000e+00+0.00000000e+00j]]\n",
      "scattering matrix\n",
      "\treal part\n",
      "-----------  ----------\n",
      "-0.00620141  0.99998\n",
      " 0.99998     0.00620126\n",
      "-----------  ----------\n",
      "\timmaginary part\n",
      "-----------  -----------\n",
      "6.89264e-05  0.00100825\n",
      "0.00100825   8.14317e-05\n",
      "-----------  -----------\n",
      "inverse vs complex conjugated: True\n",
      "inverse vs transpose complex conjugated: True\n",
      "\n",
      "\n",
      "\n",
      "trasmission coefficient: (0,1);(1,0)\n",
      "0.9999615377953159\n",
      "0.9999615377953197\n",
      "\n",
      "\n",
      "\n",
      "reflection coefficient:(0,0);(1,1)\n",
      "3.846220468213377e-05\n",
      "3.846220468213228e-05\n",
      "\n",
      "\n",
      "\n",
      "1.0000000000000018\n",
      "0.9999999999999981\n",
      "\n",
      "\n",
      "\n",
      "0.9999999999999981\n",
      "1.0000000000000018\n"
     ]
    }
   ],
   "source": [
    "S, _ =  S_rashba_rashba(M_tot)\n",
    "\n",
    "print(S)\n",
    "\n",
    "S = vel_factor * S\n",
    "\n",
    "print(np.matmul(S.T.conj(), S))\n",
    "\n",
    "# print(np.matmul(S.T.conj(), S))\n",
    "\n",
    "scater_matrix_iunfo(S)\n"
   ]
  },
  {
   "cell_type": "code",
   "execution_count": 11,
   "metadata": {
    "ExecuteTime": {
     "end_time": "2021-03-10T15:40:25.366361Z",
     "start_time": "2021-03-10T15:40:25.356638Z"
    },
    "scrolled": false
   },
   "outputs": [
    {
     "name": "stdout",
     "output_type": "stream",
     "text": [
      "scattering matrix\n",
      "[[ 0.02234656-0.01060703j -0.01084942+0.0391688j ]\n",
      " [ 0.03927981+0.01000747j -0.01206082-0.02389276j]] \n",
      "\n",
      "\n",
      "inverse vs complex conjugated: False\n",
      "inverse vs transpose complex conjugated: False\n",
      "\n",
      "\n",
      "\n",
      "trasmission coefficient: (0,1);(1,0)\n",
      "0.0016519045244168772\n",
      "0.0016430527988145417\n",
      "\n",
      "\n",
      "\n",
      "reflection coefficient:(0,0);(1,1)\n",
      "0.000611877717832222\n",
      "0.0007163271424960791\n",
      "\n",
      "\n",
      "\n",
      "0.0022549305166467636\n",
      "0.0023682316669129564\n",
      "\n",
      "\n",
      "\n",
      "0.002263782242249099\n",
      "0.0023593799413106206\n"
     ]
    }
   ],
   "source": [
    "_, S2 =  S_rashba_rashba(M_tot)\n",
    "\n",
    "scater_matrix_iunfo(S2)"
   ]
  },
  {
   "cell_type": "code",
   "execution_count": 9,
   "metadata": {
    "ExecuteTime": {
     "end_time": "2021-03-10T15:35:52.852363Z",
     "start_time": "2021-03-10T15:35:52.842590Z"
    }
   },
   "outputs": [
    {
     "name": "stdout",
     "output_type": "stream",
     "text": [
      "0.9994061620839493\n",
      "0.9994150138095521\n"
     ]
    }
   ],
   "source": [
    "print(np.linalg.norm(S[0,1])**2 - np.linalg.norm(S2[0,1])**2)\n",
    "print(np.linalg.norm(S[1,0])**2 - np.linalg.norm(S2[1,0])**2)\n",
    "\n",
    "# print(np.linalg.norm(S[1,1])**2 - np.linalg.norm(S2[1,1])**2)"
   ]
  },
  {
   "cell_type": "code",
   "execution_count": 9,
   "metadata": {
    "ExecuteTime": {
     "end_time": "2021-03-10T14:11:33.896622Z",
     "start_time": "2021-03-10T14:11:33.847547Z"
    }
   },
   "outputs": [],
   "source": [
    "alpha_coef = np.append(np.arange(-1.4, -0.4, 0.1), np.arange(0.4, 1.4, 0.1))\n",
    "\n",
    "\n",
    "junction = RachbaJunction([(0, 1), (3, -1.4)], [0.2e-2, 0, 0])\n",
    "\n",
    "trasmission_coeff = []\n",
    "for i in alpha_coef:\n",
    "    junction.alpha_profile = [(0, 1), (3, i)]\n",
    "    M_tot, vel_factor = junction.get_transfer_matrix(0)\n",
    "    M_tot = set_zeros(M_tot)\n",
    "    S, _ =  S_rashba_rashba(M_tot)\n",
    "    S = vel_factor * S\n",
    "    trasmission_coeff.append(np.linalg.norm(S[0,1])**2)\n",
    "    \n",
    "    "
   ]
  },
  {
   "cell_type": "code",
   "execution_count": 10,
   "metadata": {
    "ExecuteTime": {
     "end_time": "2021-03-10T14:11:38.359072Z",
     "start_time": "2021-03-10T14:11:38.159047Z"
    },
    "scrolled": false
   },
   "outputs": [
    {
     "data": {
      "image/png": "[encoded data removed]",
      "text/plain": [
       "<Figure size 432x288 with 1 Axes>"
      ]
     },
     "metadata": {
      "needs_background": "light"
     },
     "output_type": "display_data"
    }
   ],
   "source": [
    "plt.plot(alpha_coef[0:int(alpha_coef.shape[0]/2)], trasmission_coeff[0:int(alpha_coef.shape[0]/2)])\n",
    "# plt.plot(alpha_coef[int(alpha_coef.shape[0]/2):], trasmission_coeff[int(alpha_coef.shape[0]/2):])\n",
    "plt.grid(True)"
   ]
  },
  {
   "cell_type": "code",
   "execution_count": 6,
   "metadata": {
    "ExecuteTime": {
     "end_time": "2021-03-10T14:07:11.694806Z",
     "start_time": "2021-03-10T14:07:11.560289Z"
    },
    "scrolled": false
   },
   "outputs": [
    {
     "data": {
      "image/png": "[encoded data removed]",
      "text/plain": [
       "<Figure size 432x288 with 1 Axes>"
      ]
     },
     "metadata": {
      "needs_background": "light"
     },
     "output_type": "display_data"
    }
   ],
   "source": [
    "plt.plot(alpha_coef[int(alpha_coef.shape[0]/2):], trasmission_coeff[int(alpha_coef.shape[0]/2):])\n",
    "plt.grid(True)"
   ]
  },
  {
   "cell_type": "code",
   "execution_count": 6,
   "metadata": {
    "ExecuteTime": {
     "end_time": "2021-03-11T17:35:30.322342Z",
     "start_time": "2021-03-11T17:35:30.309933Z"
    }
   },
   "outputs": [
    {
     "data": {
      "text/plain": [
       "numpy.float64"
      ]
     },
     "execution_count": 6,
     "metadata": {},
     "output_type": "execute_result"
    }
   ],
   "source": [
    "type(np.float64(np.sign(-3)))"
   ]
  },
  {
   "cell_type": "code",
   "execution_count": null,
   "metadata": {},
   "outputs": [],
   "source": []
  }
 ],
 "metadata": {
  "@webio": {
   "lastCommId": null,
   "lastKernelId": null
  },
  "hide_input": false,
  "kernelspec": {
   "display_name": "Python 3",
   "language": "python",
   "name": "python3"
  },
  "language_info": {
   "codemirror_mode": {
    "name": "ipython",
    "version": 3
   },
   "file_extension": ".py",
   "mimetype": "text/x-python",
   "name": "python",
   "nbconvert_exporter": "python",
   "pygments_lexer": "ipython3",
   "version": "3.7.2"
  },
  "toc": {
   "base_numbering": 1,
   "nav_menu": {},
   "number_sections": true,
   "sideBar": true,
   "skip_h1_title": false,
   "title_cell": "Table of Contents",
   "title_sidebar": "Contents",
   "toc_cell": false,
   "toc_position": {},
   "toc_section_display": true,
   "toc_window_display": false
  },
  "varInspector": {
   "cols": {
    "lenName": 16,
    "lenType": 16,
    "lenVar": 40
   },
   "kernels_config": {
    "python": {
     "delete_cmd_postfix": "",
     "delete_cmd_prefix": "del ",
     "library": "var_list.py",
     "varRefreshCmd": "print(var_dic_list())"
    },
    "r": {
     "delete_cmd_postfix": ") ",
     "delete_cmd_prefix": "rm(",
     "library": "var_list.r",
     "varRefreshCmd": "cat(var_dic_list()) "
    }
   },
   "types_to_exclude": [
    "module",
    "function",
    "builtin_function_or_method",
    "instance",
    "_Feature"
   ],
   "window_display": false
  }
 },
 "nbformat": 4,
 "nbformat_minor": 4
}
