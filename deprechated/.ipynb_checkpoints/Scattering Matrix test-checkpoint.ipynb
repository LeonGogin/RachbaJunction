{
 "cells": [
  {
   "cell_type": "code",
   "execution_count": 1,
   "metadata": {
    "ExecuteTime": {
     "end_time": "2021-03-22T08:54:41.121734Z",
     "start_time": "2021-03-22T08:54:39.984030Z"
    },
    "init_cell": true
   },
   "outputs": [],
   "source": [
    "import numpy as np\n",
    "import scipy.constants as cc\n",
    "\n",
    "from tabulate import tabulate\n",
    "\n",
    "import matplotlib.pyplot as plt\n",
    "\n",
    "from RachbaJunction import RachbaJunction\n",
    "from RachbaJunction.utilities import *"
   ]
  },
  {
   "cell_type": "markdown",
   "metadata": {},
   "source": [
    "# single interface"
   ]
  },
  {
   "cell_type": "code",
   "execution_count": 4,
   "metadata": {
    "ExecuteTime": {
     "end_time": "2021-03-22T09:11:50.486107Z",
     "start_time": "2021-03-22T09:11:50.442593Z"
    },
    "scrolled": false
   },
   "outputs": [
    {
     "name": "stdout",
     "output_type": "stream",
     "text": [
      "scattering matrix\n",
      "\treal part\n",
      "---------  --------\n",
      "-0.963093  0.240773\n",
      " 0.240773  0.963093\n",
      "---------  --------\n",
      "\timmaginary part\n",
      "----------  ----------\n",
      " 0.116739   -0.0291846\n",
      "-0.0291846  -0.116739\n",
      "----------  ----------\n",
      "inverse vs complex conjugated: True\n",
      "inverse vs transpose complex conjugated: True\n",
      "\n",
      "\n",
      "\n",
      "trasmission coefficient: (0,1);(1,0)\n",
      "0.05882352941176456074\n",
      "0.05882352941176457428\n",
      "\n",
      "\n",
      "\n",
      "reflection coefficient:(0,0);(1,1)\n",
      "0.9411764705882145742\n",
      "0.9411764705882155537\n",
      "\n",
      "\n",
      "\n",
      "0.99999999999997913496\n",
      "0.99999999999997914846\n",
      "0.9999999999999801145\n",
      "0.99999999999997914846\n",
      "scattering matrix\n",
      "\treal part\n",
      "-------  ---------\n",
      "4.95795   1.37179\n",
      "0.84912  -0.036272\n",
      "-------  ---------\n",
      "\timmaginary part\n",
      "---------  ---------\n",
      "-6.14705   -0.123236\n",
      " 0.689612  -0.16694\n",
      "---------  ---------\n",
      "inverse vs complex conjugated: False\n",
      "inverse vs transpose complex conjugated: False\n",
      "\n",
      "\n",
      "\n",
      "trasmission coefficient: (0,1);(1,0)\n",
      "1.8970018231290372929\n",
      "1.1965703807427984645\n",
      "\n",
      "\n",
      "\n",
      "reflection coefficient:(0,0);(1,1)\n",
      "62.36758301579506545\n",
      "0.029184643432754422525\n",
      "\n",
      "\n",
      "\n",
      "64.26458483892410274\n",
      "63.564153396537863915\n",
      "1.9261864665617917154\n",
      "63.564153396537863915\n"
     ]
    }
   ],
   "source": [
    "alpha = [-4, 4]\n",
    "profile = [0]\n",
    "\n",
    "junction = RachbaJunction([profile, alpha])\n",
    "\n",
    "M_tot, vel_factor = junction.get_transfer_matrix(0)\n",
    "\n",
    "S = junction.get_scattering_matrix(0)\n",
    "\n",
    "ev_coef = S.get_evanescent_component(M_tot)\n",
    "\n",
    "scater_matrix_iunfo(S.S)\n",
    "scater_matrix_iunfo(ev_coef)\n",
    "\n",
    "# m, _ = junction.get_transfer_matrix(0)\n",
    "\n",
    "# print(tabulate(m.real))\n",
    "# print(tabulate(m.imag))"
   ]
  },
  {
   "cell_type": "code",
   "execution_count": null,
   "metadata": {},
   "outputs": [],
   "source": []
  },
  {
   "cell_type": "code",
   "execution_count": 22,
   "metadata": {
    "ExecuteTime": {
     "end_time": "2021-03-22T09:42:27.709126Z",
     "start_time": "2021-03-22T09:42:27.696879Z"
    }
   },
   "outputs": [
    {
     "name": "stdout",
     "output_type": "stream",
     "text": [
      "[4.1199281 +3.76961323j 3.50580313-4.34662351j]\n",
      "[-0.96262604+0.11668194j -0.02999456+0.0036357j ]\n",
      "[0.03114398+0.j 0.99951491+0.j]\n"
     ]
    }
   ],
   "source": [
    "ee = 0\n",
    "E_so = -4\n",
    "junction[0] = E_so\n",
    "junction.prepare_rashba_WF(0, ee)\n",
    "\n",
    "print(ev_coef[0,0]*junction.omega_q(0, junction.k_alpha(ee, +1, \"q\"), +1))\n",
    "\n",
    "# ev_coef[0,0]*\n",
    "print(S.S[0,0]*junction.omega_k(0, -junction.k_alpha(ee, +1, \"k\"), -1))\n",
    "\n",
    "print(junction.omega_k(0, junction.k_alpha(ee, +1, \"k\"), -1))"
   ]
  },
  {
   "cell_type": "code",
   "execution_count": 24,
   "metadata": {
    "ExecuteTime": {
     "end_time": "2021-03-22T10:25:00.698790Z",
     "start_time": "2021-03-22T10:25:00.682996Z"
    }
   },
   "outputs": [
    {
     "data": {
      "text/plain": [
       "(-0.062378756549548690588-0j)"
      ]
     },
     "execution_count": 24,
     "metadata": {},
     "output_type": "execute_result"
    }
   ],
   "source": [
    "ev_coef[0,0]*junction.omega_q(0, junction.k_alpha(ee, +1, \"q\"), +1)[0].real/(ev_coef[0,0]*junction.omega_q(0, junction.k_alpha(ee, +1, \"q\"), +1)[0].imag)"
   ]
  },
  {
   "cell_type": "code",
   "execution_count": null,
   "metadata": {},
   "outputs": [],
   "source": [
    "S.S[0,0]*junction.omega_k(0, -junction.k_alpha(ee, +1, \"k\"), -1)"
   ]
  },
  {
   "cell_type": "code",
   "execution_count": 21,
   "metadata": {
    "ExecuteTime": {
     "end_time": "2021-03-22T09:41:49.257506Z",
     "start_time": "2021-03-22T09:41:49.247194Z"
    }
   },
   "outputs": [
    {
     "name": "stdout",
     "output_type": "stream",
     "text": [
      "[0.44930288-0.62961267j 0.6004187 +0.48762955j]\n",
      "[0.00749864-0.00090893j 0.24065651-0.02917049j]\n"
     ]
    }
   ],
   "source": [
    "E_so = 4\n",
    "junction[0] = E_so\n",
    "junction.prepare_rashba_WF(0, ee)\n",
    "\n",
    "print(ev_coef[1,0]*junction.omega_q(0, -junction.k_alpha(ee, +1, \"q\"), +1))\n",
    "\n",
    "print(S.S[1,0]*junction.omega_k(0, junction.k_alpha(ee, +1, \"k\"), -1))"
   ]
  },
  {
   "cell_type": "code",
   "execution_count": 26,
   "metadata": {
    "ExecuteTime": {
     "end_time": "2021-03-20T10:16:34.918609Z",
     "start_time": "2021-03-20T10:16:34.896476Z"
    }
   },
   "outputs": [
    {
     "data": {
      "text/plain": [
       "0.4174233974207344"
      ]
     },
     "execution_count": 26,
     "metadata": {},
     "output_type": "execute_result"
    }
   ],
   "source": [
    "np.lib.scimath.sqrt(4* E_so*(-ee - 2 * E_so + np.sqrt(hxy**2 + 4*E_so**2 + 4*ee*E_so) ))"
   ]
  },
  {
   "cell_type": "markdown",
   "metadata": {},
   "source": [
    "# Multiple interface"
   ]
  },
  {
   "cell_type": "code",
   "execution_count": 2,
   "metadata": {
    "ExecuteTime": {
     "end_time": "2021-03-16T09:30:59.187000Z",
     "start_time": "2021-03-16T09:30:59.181448Z"
    }
   },
   "outputs": [
    {
     "name": "stdout",
     "output_type": "stream",
     "text": [
      "k_so 0.01360254171962002\n",
      "x' 0.0013602541719620021\n",
      "7.351567233626794\n"
     ]
    }
   ],
   "source": [
    "hbar = 6.582119569e-16\n",
    "m = 0.022*cc.m_e\n",
    "h_xy = 0.2e-2\n",
    "\n",
    "# E_so = 0.6\n",
    "# alpha = np.sqrt(E_so*h_xy*2/m)*hbar\n",
    "\n",
    "k_z = np.sqrt(2*m*h_xy)/hbar\n",
    "\n",
    "x = 0.1\n",
    "x_prime =  k_z*x\n",
    "print(f\"k_so {k_z}\")\n",
    "# print(f\"alpha {alpha}\")\n",
    "\n",
    "print(f\"x' {x_prime}\")\n",
    "\n",
    "print(x/k_z)"
   ]
  },
  {
   "cell_type": "code",
   "execution_count": 2,
   "metadata": {
    "ExecuteTime": {
     "end_time": "2021-03-16T11:15:36.767616Z",
     "start_time": "2021-03-16T11:15:36.743428Z"
    },
    "scrolled": false
   },
   "outputs": [
    {
     "name": "stdout",
     "output_type": "stream",
     "text": [
      "\n",
      "\n"
     ]
    },
    {
     "ename": "NameError",
     "evalue": "name 'S' is not defined",
     "output_type": "error",
     "traceback": [
      "\u001b[0;31m---------------------------------------------------------------------------\u001b[0m",
      "\u001b[0;31mNameError\u001b[0m                                 Traceback (most recent call last)",
      "\u001b[0;32m<ipython-input-2-06d656117376>\u001b[0m in \u001b[0;36m<module>\u001b[0;34m\u001b[0m\n\u001b[1;32m     15\u001b[0m \u001b[0;31m# S = vel_factor * S\u001b[0m\u001b[0;34m\u001b[0m\u001b[0;34m\u001b[0m\u001b[0;34m\u001b[0m\u001b[0m\n\u001b[1;32m     16\u001b[0m \u001b[0mprint\u001b[0m\u001b[0;34m(\u001b[0m\u001b[0;34m\"\\n\"\u001b[0m\u001b[0;34m)\u001b[0m\u001b[0;34m\u001b[0m\u001b[0;34m\u001b[0m\u001b[0m\n\u001b[0;32m---> 17\u001b[0;31m \u001b[0mprint\u001b[0m\u001b[0;34m(\u001b[0m\u001b[0mnp\u001b[0m\u001b[0;34m.\u001b[0m\u001b[0mallclose\u001b[0m\u001b[0;34m(\u001b[0m\u001b[0mnp\u001b[0m\u001b[0;34m.\u001b[0m\u001b[0mmatmul\u001b[0m\u001b[0;34m(\u001b[0m\u001b[0mS\u001b[0m\u001b[0;34m.\u001b[0m\u001b[0mS\u001b[0m\u001b[0;34m.\u001b[0m\u001b[0mT\u001b[0m\u001b[0;34m.\u001b[0m\u001b[0mconj\u001b[0m\u001b[0;34m(\u001b[0m\u001b[0;34m)\u001b[0m\u001b[0;34m,\u001b[0m \u001b[0mS\u001b[0m\u001b[0;34m.\u001b[0m\u001b[0mS\u001b[0m\u001b[0;34m)\u001b[0m\u001b[0;34m,\u001b[0m \u001b[0mnp\u001b[0m\u001b[0;34m.\u001b[0m\u001b[0meye\u001b[0m\u001b[0;34m(\u001b[0m\u001b[0mS\u001b[0m\u001b[0;34m.\u001b[0m\u001b[0mS\u001b[0m\u001b[0;34m.\u001b[0m\u001b[0mshape\u001b[0m\u001b[0;34m[\u001b[0m\u001b[0;36m0\u001b[0m\u001b[0;34m]\u001b[0m\u001b[0;34m)\u001b[0m\u001b[0;34m,\u001b[0m \u001b[0matol\u001b[0m\u001b[0;34m=\u001b[0m\u001b[0;36m1e-4\u001b[0m\u001b[0;34m)\u001b[0m\u001b[0;34m)\u001b[0m\u001b[0;34m\u001b[0m\u001b[0;34m\u001b[0m\u001b[0m\n\u001b[0m\u001b[1;32m     18\u001b[0m \u001b[0mprint\u001b[0m\u001b[0;34m(\u001b[0m\u001b[0;34m\"\\n inverse\"\u001b[0m\u001b[0;34m)\u001b[0m\u001b[0;34m\u001b[0m\u001b[0;34m\u001b[0m\u001b[0m\n\u001b[1;32m     19\u001b[0m \u001b[0mprint\u001b[0m\u001b[0;34m(\u001b[0m\u001b[0mtabulate\u001b[0m\u001b[0;34m(\u001b[0m\u001b[0mset_zeros\u001b[0m\u001b[0;34m(\u001b[0m\u001b[0mnp\u001b[0m\u001b[0;34m.\u001b[0m\u001b[0mmatmul\u001b[0m\u001b[0;34m(\u001b[0m\u001b[0mS\u001b[0m\u001b[0;34m.\u001b[0m\u001b[0mS\u001b[0m\u001b[0;34m.\u001b[0m\u001b[0mT\u001b[0m\u001b[0;34m.\u001b[0m\u001b[0mconj\u001b[0m\u001b[0;34m(\u001b[0m\u001b[0;34m)\u001b[0m\u001b[0;34m,\u001b[0m \u001b[0mS\u001b[0m\u001b[0;34m.\u001b[0m\u001b[0mS\u001b[0m\u001b[0;34m)\u001b[0m\u001b[0;34m)\u001b[0m\u001b[0;34m.\u001b[0m\u001b[0mreal\u001b[0m\u001b[0;34m)\u001b[0m\u001b[0;34m)\u001b[0m\u001b[0;34m\u001b[0m\u001b[0;34m\u001b[0m\u001b[0m\n",
      "\u001b[0;31mNameError\u001b[0m: name 'S' is not defined"
     ]
    }
   ],
   "source": [
    "alpha = [8, -0.1, 8]\n",
    "profile = [-10, 10]\n",
    "\n",
    "# alpha = [5, -3]\n",
    "# profile = [0]\n",
    "\n",
    "junction = RachbaJunction([profile, alpha], logg=True)\n",
    "\n",
    "# S = junction.get_scatter\n",
    "ing_matrix(-1.2)\n",
    "# print(S)\n",
    "# junction[1] = -5\n",
    "# M_tot, vel_factor = junction.get_transfer_matrix(-0.5)\n",
    "# S, _ =  S_rashba_rashba(M_tot)\n",
    "\n",
    "# S = vel_factor * S\n",
    "print(\"\\n\")\n",
    "print(np.allclose(np.matmul(S.S.T.conj(), S.S), np.eye(S.S.shape[0]), atol=1e-4))\n",
    "print(\"\\n inverse\")\n",
    "print(tabulate(set_zeros(np.matmul(S.S.T.conj(), S.S)).real))\n",
    "print(tabulate(set_zeros(np.matmul(S.S.T.conj(), S.S)).imag))\n",
    "\n",
    "# # print(np.matmul(S.T.conj(), S))\n",
    "\n",
    "scater_matrix_iunfo(S.S)\n",
    "\n",
    "print(S.is_unitary)\n",
    "\n",
    "# indd = int(S.shape[0]/2)\n",
    "# t  = S[0:indd, indd:]\n",
    "# np.linalg.norm(np.trace(np.matmul(t.T.conj(), t)))"
   ]
  },
  {
   "cell_type": "code",
   "execution_count": 18,
   "metadata": {
    "ExecuteTime": {
     "end_time": "2021-03-16T11:26:05.175010Z",
     "start_time": "2021-03-16T11:26:05.153687Z"
    }
   },
   "outputs": [
    {
     "name": "stdout",
     "output_type": "stream",
     "text": [
      "INFO - \tin the gap energy range False, 0\n",
      "INFO - \tin the gap energy range False, 0\n"
     ]
    },
    {
     "data": {
      "text/plain": [
       "array([[ 3.89183082e-01+5.98785886e-01j,  3.81469611e-01+5.86918161e-01j],\n",
       "       [ 3.81469611e-01-5.86918161e-01j,  3.89183082e-01-5.98785886e-01j],\n",
       "       [-5.32860230e+01-4.65842078e+00j,  5.34892618e+01+0.00000000e+00j],\n",
       "       [-9.31215301e-03+8.14095793e-04j,  9.34767060e-03+0.00000000e+00j]],\n",
       "      dtype=complex256)"
      ]
     },
     "execution_count": 18,
     "metadata": {},
     "output_type": "execute_result"
    }
   ],
   "source": [
    "x = 1\n",
    "junction.E_so = 0.001#np.finfo(np.float64).eps\n",
    "# junction.prepare_week_zeeman_WF(10, -0.9)\n",
    "junction.prepare_zeeman_WF(x, -0.9)\n",
    "\n",
    "# set_zeros(junction.compile_wave_function(x, -0.9))\n",
    "junction.compile_wave_function(x, -0.9)"
   ]
  },
  {
   "cell_type": "code",
   "execution_count": 19,
   "metadata": {
    "ExecuteTime": {
     "end_time": "2021-03-16T11:26:15.171744Z",
     "start_time": "2021-03-16T11:26:15.151533Z"
    },
    "scrolled": false
   },
   "outputs": [
    {
     "name": "stdout",
     "output_type": "stream",
     "text": [
      "INFO - -->Zeeman regime\n",
      "INFO - -->Zeeman regime\n",
      "INFO - \tin the gap energy range False, 0\n",
      "INFO - \tin the gap energy range False, 0\n",
      "complex256\n",
      "--------  ---------  ---------  ------------\n",
      "0.389183   0.38147   -53.286    -0.00931215\n",
      "0.38147    0.389183   53.4893    0.00934767\n",
      "0.110887  -0.132815   -4.72971  -0.000826555\n",
      "0.132815  -0.110887    1.69148   0.000295599\n",
      "--------  ---------  ---------  ------------\n",
      "--------  ---------  ---------  ------------\n",
      "0.598786  -0.586918   -4.65842   0.000814096\n",
      "0.586918  -0.598786    0         0\n",
      "0.170607   0.204346   73.5235   -0.0128488\n",
      "0.204346   0.170607  -73.6561    0.012872\n",
      "--------  ---------  ---------  ------------\n",
      "complex256\n",
      "--------  ---------  ---------  ------------\n",
      "0.389183   0.38147   -53.286    -0.00931215\n",
      "0.38147    0.389183   53.4893    0.00934767\n",
      "0.110887  -0.132815   -4.72971  -0.000826555\n",
      "0.132815  -0.110887    1.69148   0.000295599\n",
      "--------  ---------  ---------  ------------\n",
      "--------  ---------  ---------  ------------\n",
      "0.598786  -0.586918   -4.65842   0.000814096\n",
      "0.586918  -0.598786    0         0\n",
      "0.170607   0.204346   73.5235   -0.0128488\n",
      "0.204346   0.170607  -73.6561    0.012872\n",
      "--------  ---------  ---------  ------------\n",
      "complex256\n",
      "------------  ------------  ------------  ------------\n",
      " 1            -4.20061e-17   7.32747e-15   2.50383e-18\n",
      " 1.29901e-17   1             2.66245e-14  -1.72371e-18\n",
      "-2.79521e-19   0             1             0\n",
      "-2.63635e-15   1.02999e-16  -5.89528e-13   1\n",
      "------------  ------------  ------------  ------------\n",
      "------------  -----------  ------------  ------------\n",
      " 4.74881e-17  9.29568e-17   9.08301e-15  -6.74789e-18\n",
      "-3.72152e-17  8.48727e-17  -5.79398e-16  -3.89635e-19\n",
      " 0            2.61495e-19   4.5384e-18    0\n",
      "-1.44177e-15  1.78633e-15  -8.24757e-14  -1.93971e-17\n",
      "------------  -----------  ------------  ------------\n"
     ]
    }
   ],
   "source": [
    "ff = junction.get_boundary_matrix(x, -0.9)\n",
    "\n",
    "print(ff.dtype)\n",
    "print(tabulate(ff.real))\n",
    "print(tabulate(ff.imag))\n",
    "from scipy import linalg\n",
    "ff1 = np.array(linalg.inv(ff), dtype = np.complex256)\n",
    "print(ff1.dtype)\n",
    "\n",
    "print(tabulate(ff.real))\n",
    "print(tabulate(ff.imag))\n",
    "\n",
    "ss = set_zeros(np.matmul(ff1, ff))\n",
    "print(ss.dtype)\n",
    "print(tabulate(ss.real))\n",
    "print(tabulate(ss.imag))"
   ]
  },
  {
   "cell_type": "code",
   "execution_count": 5,
   "metadata": {
    "ExecuteTime": {
     "end_time": "2021-03-16T11:16:00.212026Z",
     "start_time": "2021-03-16T11:16:00.157370Z"
    }
   },
   "outputs": [
    {
     "data": {
      "text/plain": [
       "dtype('complex128')"
      ]
     },
     "execution_count": 5,
     "metadata": {},
     "output_type": "execute_result"
    }
   ],
   "source": [
    "ff.dtype"
   ]
  },
  {
   "cell_type": "code",
   "execution_count": 2,
   "metadata": {
    "ExecuteTime": {
     "end_time": "2021-03-13T15:19:55.698605Z",
     "start_time": "2021-03-13T15:19:55.675933Z"
    }
   },
   "outputs": [
    {
     "name": "stdout",
     "output_type": "stream",
     "text": [
      "DEBUG -  1: X_i+ boundary matrix\n",
      "\tE_so = 7.0\n",
      "\tx_i = 10\n",
      "\talpha sign = 1.0\n",
      "\th_xy = 0.002\n",
      "INFO - -->Rashba regime\n",
      "INFO - \tsecond in the gap energy range\n",
      "DEBUG - \t\trigth lead\n",
      "DEBUG - \t\t0: lambda 1, band -1\n",
      "DEBUG - \t\t-->b - velcity 2.6508042139670227\n",
      "DEBUG - \t\t1: lambda 1, band -1\n",
      "DEBUG - \t\t-->a - velcity -2.6508042139670227\n",
      "DEBUG -  1: X_i- boundary matrix\n",
      "\tE_so = 5.0\n",
      "\tx_i = 10\n",
      "\talpha sign = -1.0\n",
      "\th_xy = 0.002\n",
      "INFO - -->Rashba regime\n",
      "INFO - \tsecond in the gap energy range\n",
      "DEBUG -  0: X_i+ boundary matrix\n",
      "\tE_so = 5.0\n",
      "\tx_i = -10\n",
      "\talpha sign = -1.0\n",
      "\th_xy = 0.002\n",
      "INFO - -->Rashba regime\n",
      "INFO - \tsecond in the gap energy range\n",
      "DEBUG -  0: X_i- boundary matrix\n",
      "\tE_so = 7.0\n",
      "\tx_i = -10\n",
      "\talpha sign = 1.0\n",
      "\th_xy = 0.002\n",
      "INFO - -->Rashba regime\n",
      "INFO - \tsecond in the gap energy range\n",
      "DEBUG - \t\tleft lead\n",
      "DEBUG - \t\t0: lambda 1, band -1\n",
      "DEBUG - \t\t-->a - velcity 2.6508042139670227\n",
      "DEBUG - \t\t1: lambda 1, band -1\n",
      "DEBUG - \t\t-->b - velcity -2.6508042139670227\n",
      "[[9.99999998e-01+0.00000000e+00j 7.24243197e-08+3.73344284e-08j]\n",
      " [7.24243197e-08-3.73344284e-08j 1.00000000e+00+0.00000000e+00j]]\n",
      "scattering matrix\n",
      "\treal part\n",
      "----------  ----------\n",
      "-0.419851   -0.0487801\n",
      "-0.0487801   0.419851\n",
      "----------  ----------\n",
      "\timmaginary part\n",
      "--------  ---------\n",
      "0.900226   0.104592\n",
      "0.104592  -0.900226\n",
      "--------  ---------\n",
      "inverse vs complex conjugated: True\n",
      "inverse vs transpose complex conjugated: True\n",
      "\n",
      "\n",
      "\n",
      "trasmission coefficient: (0,1);(1,0)\n",
      "0.013319013443732415\n",
      "0.013318996780891554\n",
      "\n",
      "\n",
      "\n",
      "reflection coefficient:(0,0);(1,1)\n",
      "0.9866810009413947\n",
      "0.986680988621922\n",
      "\n",
      "\n",
      "\n",
      "0.9999999977222863\n",
      "1.0000000020656543\n",
      "\n",
      "\n",
      "\n",
      "1.000000014385127\n",
      "0.9999999854028135\n"
     ]
    }
   ],
   "source": [
    "alpha = [7, -5, 7]\n",
    "profile = [-10, 10]\n",
    "\n",
    "junction = RachbaJunction([profile, alpha], [0.2e-2, 0, 0], logg = True)\n",
    "# junction[1] = -5\n",
    "M_tot, vel_factor = junction.get_transfer_matrix(0)\n",
    "\n",
    "S, _ =  S_rashba_rashba(M_tot)\n",
    "\n",
    "S = vel_factor * S\n",
    "\n",
    "print(np.matmul(S.T.conj(), S))\n",
    "\n",
    "# print(np.matmul(S.T.conj(), S))\n",
    "\n",
    "scater_matrix_iunfo(S)"
   ]
  },
  {
   "cell_type": "code",
   "execution_count": null,
   "metadata": {},
   "outputs": [],
   "source": []
  }
 ],
 "metadata": {
  "@webio": {
   "lastCommId": null,
   "lastKernelId": null
  },
  "celltoolbar": "Initialization Cell",
  "hide_input": false,
  "kernelspec": {
   "display_name": "Python 3",
   "language": "python",
   "name": "python3"
  },
  "language_info": {
   "codemirror_mode": {
    "name": "ipython",
    "version": 3
   },
   "file_extension": ".py",
   "mimetype": "text/x-python",
   "name": "python",
   "nbconvert_exporter": "python",
   "pygments_lexer": "ipython3",
   "version": "3.7.2"
  },
  "toc": {
   "base_numbering": 1,
   "nav_menu": {},
   "number_sections": true,
   "sideBar": true,
   "skip_h1_title": false,
   "title_cell": "Table of Contents",
   "title_sidebar": "Contents",
   "toc_cell": false,
   "toc_position": {},
   "toc_section_display": true,
   "toc_window_display": true
  },
  "varInspector": {
   "cols": {
    "lenName": 16,
    "lenType": 16,
    "lenVar": 40
   },
   "kernels_config": {
    "python": {
     "delete_cmd_postfix": "",
     "delete_cmd_prefix": "del ",
     "library": "var_list.py",
     "varRefreshCmd": "print(var_dic_list())"
    },
    "r": {
     "delete_cmd_postfix": ") ",
     "delete_cmd_prefix": "rm(",
     "library": "var_list.r",
     "varRefreshCmd": "cat(var_dic_list()) "
    }
   },
   "oldHeight": 229.31665999999998,
   "position": {
    "height": "251.85px",
    "left": "1956.67px",
    "right": "20px",
    "top": "121px",
    "width": "351.467px"
   },
   "types_to_exclude": [
    "module",
    "function",
    "builtin_function_or_method",
    "instance",
    "_Feature"
   ],
   "varInspector_section_display": "block",
   "window_display": false
  }
 },
 "nbformat": 4,
 "nbformat_minor": 4
}
