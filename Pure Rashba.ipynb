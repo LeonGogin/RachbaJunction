{
 "cells": [
  {
   "cell_type": "code",
   "execution_count": 1,
   "metadata": {
    "ExecuteTime": {
     "end_time": "2022-05-27T13:23:13.495895Z",
     "start_time": "2022-05-27T13:23:12.161945Z"
    }
   },
   "outputs": [
    {
     "name": "stdout",
     "output_type": "stream",
     "text": [
      "k_so 6274572.777578376\n",
      "x' 3.137286388789188\n",
      "plots/paper_plots_2/\n"
     ]
    }
   ],
   "source": [
    "import numpy as np\n",
    "import scipy.constants as cc\n",
    "\n",
    "from tabulate import tabulate\n",
    "\n",
    "import matplotlib.pyplot as plt\n",
    "from importlib import reload\n",
    "# from matplotlib import ticker\n",
    "\n",
    "from RashbaJunction import RashbaJunction2\n",
    "from RashbaJunction.RashbaJunction_0_4 import WaveVector\n",
    "from RashbaJunction.utilities import adjuct_Tick, renormallize_result, make_grid\n",
    "from RashbaJunction.ScatteringMatrix import ScatteringMatrix\n",
    "\n",
    "ev_to_j = 1.602176634e-19\n",
    "\n",
    "hbar = 6.582119569e-16\n",
    "m = 0.015*cc.m_e\n",
    "h_xy = 0.1e-3*ev_to_j# mJ\n",
    "\n",
    "\n",
    "# k_z = np.sqrt(2*m*h_xy/ev_to_j)/hbar\n",
    "k_z = np.sqrt(2*m*h_xy)/cc.hbar# 1/Metr\n",
    "\n",
    "\n",
    "x = 500e-9# Metr\n",
    "x_prime =  k_z*x# adimensional\n",
    "print(f\"k_so {k_z}\")\n",
    "print(f\"x' {x_prime}\")\n",
    "\n",
    "BASE_PATH = \"plots/paper_plots_2/\"\n",
    "# BASE_PATH_DIRAC_PARADOX = \"plots/tesi/4_Dirac_paradox/\"\n",
    "# BASE_PATH_SLIDE = \"plots/tesi/Slide/\"\n",
    "# BASE_PATH_SLIDE = \"/Users/l/Google Drive/polito_/tesi/Text/vesions/Slide/assets/\"\n",
    "\n",
    "print(BASE_PATH)\n",
    "# print(BASE_PATH_DIRAC_PARADOX)\n",
    "# print(BASE_PATH_SLIDE)"
   ]
  },
  {
   "cell_type": "code",
   "execution_count": 2,
   "metadata": {
    "ExecuteTime": {
     "end_time": "2022-05-27T13:23:14.207257Z",
     "start_time": "2022-05-27T13:23:14.191658Z"
    },
    "code_folding": [
     0,
     39,
     44
    ]
   },
   "outputs": [],
   "source": [
    "def renormallize_result(res, dy = 10):\n",
    "#     x_int = x\n",
    "#     res_int = res\n",
    "    for v in res.values():\n",
    "        for i in v:\n",
    "            pos = np.where(np.abs(np.diff(i)) >= dy)[0]\n",
    "            if len(pos) != 0:\n",
    "                i[pos] = np.nan\n",
    "            pos = 0\n",
    "\n",
    "\n",
    "def adjuct_Tick(axs, **kwarg):\n",
    "    from matplotlib import ticker\n",
    "    if len(axs.shape) == 1:\n",
    "        ax = axs.reshape(axs.shape[0], 1)\n",
    "        for k in kwarg.keys():\n",
    "            if k != \"size\":\n",
    "                kwarg[k] = kwarg[k].reshape(axs.shape[0], 1)\n",
    "    else:\n",
    "        ax = axs\n",
    "    \n",
    "    for i in range(ax.shape[0]):\n",
    "        for j in range(ax.shape[1]):\n",
    "                ax[i, j].tick_params(axis='x', labelsize=kwarg[\"size\"])\n",
    "                ax[i, j].tick_params(axis='y', labelsize=kwarg[\"size\"])\n",
    "    \n",
    "                ax[i, j].xaxis.set_major_locator(ticker.MultipleLocator(kwarg[\"x_magior\"][i, j]))\n",
    "                ax[i, j].xaxis.set_minor_locator(ticker.MultipleLocator(kwarg[\"x_minor\"][i, j]))\n",
    "\n",
    "                ax[i, j].xaxis.set_ticks_position('both')\n",
    "    \n",
    "                ax[i, j].yaxis.set_major_locator(ticker.MultipleLocator(kwarg[\"y_magior\"][i, j]))\n",
    "                ax[i, j].yaxis.set_minor_locator(ticker.MultipleLocator(kwarg[\"y_minor\"][i, j]))\n",
    "\n",
    "                ax[i, j].yaxis.set_ticks_position('both')\n",
    "    \n",
    "                ax[i, j].tick_params(which='major', width=1.00, length=5)\n",
    "                ax[i, j].tick_params(which='minor', width=0.75, length=2.5, labelsize=15)\n",
    "            \n",
    "def expansion(x):\n",
    "    # r = eso/h\n",
    "    return x**2/(1 + (x/2)**2)**2\n",
    "#     return 1/(1+4*(r)**2) + np.sqrt(1/r)*x + (r)*x**2\n",
    "\n",
    "def expansion2(x):\n",
    "    # r = eso/h\n",
    "    return 16*np.pi**2*x/E_l/(4 + np.pi**2*x/E_l)**2\n",
    "#     return 1/(1+4*(r)**2) + np.sqrt(1/r)*x + (r)*x**2"
   ]
  },
  {
   "cell_type": "markdown",
   "metadata": {},
   "source": [
    "# pot set up"
   ]
  },
  {
   "cell_type": "code",
   "execution_count": 3,
   "metadata": {
    "ExecuteTime": {
     "end_time": "2022-05-27T13:23:15.677502Z",
     "start_time": "2022-05-27T13:23:15.673056Z"
    }
   },
   "outputs": [],
   "source": [
    "font = {'family': \"Times New Roman\", \"size\": 25}\n",
    "\n",
    "# y_label = [r\"$$\\frac{2 \\pi \\hbar}{q^2} G$$\", r\"$$-\\frac{6 \\hbar}{q \\pi k_b^2 T}L$$\"]\n",
    "# y_label = [r\"$$ \\frac{G}{G_0}$$\", r\"$$-\\frac{6 \\hbar}{q \\pi k_b^2 T}L$$\"]\n",
    "# x_label = r\"$$\\frac{E}{E_Z}$$\"\n",
    "y_label = r\"$G / G_0$\"\n",
    "x_label = r\"$$E / E_{SO}^{(L)}$$\"\n",
    "\n",
    "y_label_pos = [(-.02, 1.03), (-.09, 1)]\n",
    "\n",
    "legend_font_size = 25\n",
    "\n",
    "region_lbl = [\"(a)\", \"(b)\", \"(c)\"]"
   ]
  },
  {
   "cell_type": "markdown",
   "metadata": {},
   "source": [
    "# Pure Rashba definition"
   ]
  },
  {
   "cell_type": "code",
   "execution_count": 4,
   "metadata": {
    "ExecuteTime": {
     "end_time": "2022-05-27T13:23:17.157621Z",
     "start_time": "2022-05-27T13:23:17.138789Z"
    }
   },
   "outputs": [],
   "source": [
    "import math\n",
    "\n",
    "class PureRashba(RashbaJunction2):\n",
    "    def __init__(self, *arg, **kwargs):\n",
    "        super().__init__(*arg, **kwargs)\n",
    "        \n",
    "    @property\n",
    "    def sgn_k(self):\n",
    "        if self.wave_vector[1][0] == 0:\n",
    "            sng1 = math.copysign(1, self.wave_vector[1][0])\n",
    "            sng2 = math.copysign(1, self.wave_vector[2][0])\n",
    "            \n",
    "            return np.array([np.sign(self.wave_vector[0]), [sng1, sng1],[sng2, sng2], np.sign(self.wave_vector[-1])])\n",
    "        else:\n",
    "            return np.sign(self.wave_vector)\n",
    "    \n",
    "    def k_alpha(self, E, l, m):\n",
    "        return np.array([ np.sqrt(self.E_so)*(self.sgn_alpha + l*np.sqrt(1+E/self.E_so)),\n",
    "                # k/k_so\n",
    "                np.sqrt(self.E_so)*(self.sgn_alpha + l*np.sqrt(1+E/self.E_so))])\n",
    "    \n",
    "    def E_0(self, E, l, m):\n",
    "        return self.E_so*(self.sgn_alpha + l*np.sqrt(1+E/self.E_so))**2\n",
    "    \n",
    "    def omega_k(self, x, k, b):\n",
    "        if b == -1:\n",
    "            res = np.array([1, 0], dtype=np.complex256)\n",
    "        else:\n",
    "            res = np.array([0, 1], dtype=np.complex256)\n",
    "        return res * np.exp(complex(0, k[1] * x))\n",
    "\n",
    "#     def omega_q(self, x, q, b):\n",
    "#         pass\\\n",
    "    def prepare_rashba_WF(self, E, v=False):\n",
    "        self.scattering_matrix = (\n",
    "                ScatteringMatrix.above_gap if v and len(self.vel_a) != 0 else None\n",
    "            )\n",
    "#         print(E, self.E_so)\n",
    "        if E >= -self.E_so:\n",
    "            self.l = (+1, -1, -1, +1)\n",
    "            \n",
    "            self.band = (-1, -1, +1, +1)\n",
    "            self.mod = 4 * (WaveVector.k,)\n",
    "\n",
    "            self.wave_vector = (\n",
    "                -self.band[0]*self.k_alpha(E, self.l[0], self.mod[0]),\n",
    "                -self.band[1]*self.k_alpha(E, self.l[1], self.mod[1]),\n",
    "                -self.band[2]*self.k_alpha(E, self.l[2], self.mod[2]),\n",
    "                -self.band[3]*self.k_alpha(E, self.l[3], self.mod[3]),\n",
    "            )\n",
    "        else:\n",
    "            raise ValueError\n",
    "    \n",
    "    def prepare_week_zeeman_WF(self, E, v=False):\n",
    "        self.prepare_rashba_WF(E, v)\n",
    "        \n",
    "    def prepare_zeeman_WF(self, E, v=False):\n",
    "        self.prepare_rashba_WF(E, v)\n",
    "\n",
    "        \n",
    "    def calculate_velocity(self, E):\n",
    "        # [rigth lead velocity, left lead velocity]\n",
    "        if len(self.vel_a) == 0 or len(self.vel_b) == 0:\n",
    "            # In rigth lead:\n",
    "            #       injected coefficient(a) is associated with negative k\n",
    "            #       reflected coefficient(b) is associated with positive k\n",
    "#             logger.debug(\"\\t\\trigth lead\")\n",
    "            k_s = -1\n",
    "        else:\n",
    "            # In left lead:\n",
    "            #       injected coefficient(a) is associated with positve slope -->0, 2\n",
    "            #       reflected coefficient(b) is associated with negative slope --> 1, 3\n",
    "#             logger.debug(\"\\t\\tleft lead\")\n",
    "            k_s = 1\n",
    "        vel = 0.0\n",
    "        \n",
    "        for i in range(len(self.wave_vector)):            \n",
    "            vel = self.sgn_k[i][1] * np.sqrt(self.E_0(E, self.l[i], self.mod[i])\n",
    "                                            ) + self.band[i]* self.sgn_alpha * np.sqrt(self.E_so)\n",
    "            \n",
    "            \n",
    "#             vel = np.sqrt(self.E_so) * self.band[i]*(-(self.sgn_alpha + self.l[i]*np.sqrt(1+E/self.E_so)) + self.sgn_alpha)\n",
    "#             print(vel)\n",
    "            if math.copysign(1, k_s * vel) > 0:\n",
    "                self.vel_a.append(vel)\n",
    "            else:\n",
    "                self.vel_b.append(vel)\n",
    "\n"
   ]
  },
  {
   "cell_type": "markdown",
   "metadata": {},
   "source": [
    "# Single interface"
   ]
  },
  {
   "cell_type": "markdown",
   "metadata": {},
   "source": [
    "## T for $E_{SO}^{(R)} / E_{SO}^{(L)}$"
   ]
  },
  {
   "cell_type": "code",
   "execution_count": 8,
   "metadata": {
    "ExecuteTime": {
     "end_time": "2022-05-27T14:10:20.118206Z",
     "start_time": "2022-05-27T14:10:16.655861Z"
    }
   },
   "outputs": [
    {
     "name": "stdout",
     "output_type": "stream",
     "text": [
      "1.0\n",
      "(array([4.47213595, 4.47213595]), array([0., 0.]), array([-0., -0.]), array([-4.47213595, -4.47213595]))\n",
      "[[ 1.  1.]\n",
      " [ 1.  1.]\n",
      " [-1. -1.]\n",
      " [-1. -1.]]\n",
      "[-2.0, -2.0]\n",
      "[2.0, 2.0]\n"
     ]
    }
   ],
   "source": [
    "alp_l = 5\n",
    "\n",
    "Eso_profile = [alp_l, 1]\n",
    "x_profile = [0]\n",
    "\n",
    "# EZ_profile = [.5, .5]\n",
    "\n",
    "\n",
    "junction = PureRashba([x_profile, Eso_profile])\n",
    "\n",
    "import math\n",
    "\n",
    "ee = 0\n",
    "junction.prepare_rashba_WF(ee)\n",
    "junction.E_so = 4\n",
    "print(math.copysign(1, junction.wave_vector[0][0]))\n",
    "print(junction.wave_vector)\n",
    "print(junction.sgn_k)\n",
    "junction.calculate_velocity(ee)\n",
    "print(junction.vel_a)\n",
    "print(junction.vel_b)\n",
    "\n",
    "\n",
    "S = junction.get_scattering_matrix(ee)\n",
    "\n",
    "def g(x, par):\n",
    "#     print(alp_l, par*alp_l)\n",
    "    junction[1] = par * alp_l\n",
    "    if x < - np.abs(par * alp_l):\n",
    "        return np.nan\n",
    "    else:\n",
    "#         junction[0] = par\n",
    "        S = junction.get_scattering_matrix(x)\n",
    "        if not S.is_unitary:\n",
    "            print(f\"not unitary matrix length: {x}, E_so: {par}\")\n",
    "            return np.nan\n",
    "        else:\n",
    "            return S.t_coef\n",
    "\n",
    "\n",
    "\n",
    "al_r_to_al_l= np.array([1, .5, -1, -.5])#/2\n",
    "enn = np.arange(-5.5, 5, 0.011)\n",
    "\n",
    "trasmission_coeff_total = make_grid(enn, al_r_to_al_l, [g])"
   ]
  },
  {
   "cell_type": "code",
   "execution_count": 6,
   "metadata": {
    "ExecuteTime": {
     "end_time": "2022-05-27T13:23:24.021532Z",
     "start_time": "2022-05-27T13:23:24.014339Z"
    }
   },
   "outputs": [],
   "source": [
    "def potential_step(E, p = 1):\n",
    "    return 8*np.sqrt(E+1)*np.sqrt(E+p) / (np.sqrt(E+1)+np.sqrt(E+p))**2"
   ]
  },
  {
   "cell_type": "code",
   "execution_count": 7,
   "metadata": {
    "ExecuteTime": {
     "end_time": "2022-05-27T13:23:29.017091Z",
     "start_time": "2022-05-27T13:23:24.730329Z"
    },
    "scrolled": false
   },
   "outputs": [
    {
     "name": "stdout",
     "output_type": "stream",
     "text": [
      "-1.0\n",
      "-0.5\n",
      "1.0\n",
      "0.5\n",
      "plots/paper_plots_2/pure_rashba/pure_rashba.pdf\n"
     ]
    },
    {
     "name": "stderr",
     "output_type": "stream",
     "text": [
      "<ipython-input-6-27cacc89f1ae>:2: RuntimeWarning: invalid value encountered in sqrt\n",
      "  return 8*np.sqrt(E+1)*np.sqrt(E+p) / (np.sqrt(E+1)+np.sqrt(E+p))**2\n",
      "<ipython-input-6-27cacc89f1ae>:2: RuntimeWarning: invalid value encountered in sqrt\n",
      "  return 8*np.sqrt(E+1)*np.sqrt(E+p) / (np.sqrt(E+1)+np.sqrt(E+p))**2\n"
     ]
    },
    {
     "data": {
      "image/png": "[encoded data removed]",
      "text/plain": [
       "<Figure size 1200x900 with 1 Axes>"
      ]
     },
     "metadata": {},
     "output_type": "display_data"
    }
   ],
   "source": [
    "%matplotlib inline\n",
    "\n",
    "# reload(plt)\n",
    "# %matplotlib notebook\n",
    "# %matplotlib notebook\n",
    "# import matplotlib.pyplot as plt \n",
    "\n",
    "\n",
    "# plt.rcParams['text.usetex'] = False\n",
    "plt.rcParams['text.usetex'] = True\n",
    "\n",
    "# fig, axs = plt.subplots(1, figsize=(14, 6), dpi=100, tight_layout=True, facecolor='white')\n",
    "fig, axs = plt.subplots(1, figsize=(12, 9), dpi=100, tight_layout=True, facecolor='white')\n",
    "\n",
    "k_list = list(trasmission_coeff_total.keys())\n",
    "\n",
    "c = [\"r\", \"c\"]\n",
    "i = 0\n",
    "for k in k_list[2:]:\n",
    "    labll = r\"$E_{SO}^{(R)} / E_{SO}^{(L)} = \"f\"{k}$\"\n",
    "    \n",
    "    print(k)\n",
    "    axs.plot(enn/alp_l, trasmission_coeff_total[k][0],\n",
    "                   label=labll, linestyle=(0, (2, 4)), color=c[i], linewidth=5)\n",
    "    i+=1\n",
    "\n",
    "    \n",
    "ll = [None, r\"$ \\small 2 \\times 4\\frac{\\sqrt{E + E_{SO}^{(L)}}\\sqrt{E + E_{SO}^{(R)}}}{\\Bigg(\\sqrt{E + E_{SO}^{(L)}} + \\sqrt{E + E_{SO}^{(R)}}\\Bigg)^2}$\"]\n",
    "i = 0\n",
    "for k in k_list[:2]:\n",
    "    labll = r\"$E_{SO}^{(R)} / E_{SO}^{(L)} = \"f\"{k}$\"\n",
    "    print(k)\n",
    "    axs.plot(enn/alp_l, trasmission_coeff_total[k][0],\n",
    "                   label=labll)\n",
    "    axs.plot(enn/alp_l, [potential_step(i, k) for i in enn/alp_l],\n",
    "                   label=ll[i], linestyle=\"dotted\", color='green', linewidth=4)\n",
    "    i+=1\n",
    "    \n",
    "\n",
    "\n",
    "axs.grid()\n",
    "axs.legend(fontsize = legend_font_size)\n",
    "axs.set_xlabel(x_label, fontdict=font)\n",
    "axs.set_ylabel(y_label, rotation=0, fontdict=font)\n",
    "axs.yaxis.set_label_coords(*y_label_pos[0])\n",
    "\n",
    "x_magior = np.array([0.5])\n",
    "x_minor = np.array([0.1])\n",
    "\n",
    "y_magior = np.array([0.2])\n",
    "y_minor = np.array([0.05])\n",
    "adjuct_Tick(np.array([axs]), x_magior=x_magior, \n",
    "                    x_minor=x_minor, \n",
    "                    y_magior=y_magior, \n",
    "                    y_minor=y_minor, \n",
    "                    size =font[\"size\"])\n",
    "\n",
    "# axs.set_ylim(1, 2.1)\n",
    "\n",
    "# plt.title(r\"$k_{SO} \\, d = \"+f\"{k_list[0][0]}$\", \n",
    "plt.title(r\"$E_{SO}^{(L)} = \"+f\"{alp_l}$\", \n",
    "              fontsize = 25, x=0.5, y=1.1)\n",
    "\n",
    "\n",
    "\n",
    "SAVE = True\n",
    "# SAVE = False\n",
    "\n",
    "save_path = BASE_PATH+\"pure_rashba/\"+f\"pure_rashba.pdf\"\n",
    "print(save_path)\n",
    "\n",
    "if SAVE:\n",
    "    plt.savefig(save_path, \n",
    "            transparent = False, \n",
    "            bbox_inches='tight')\n",
    "\n",
    "plt.show()"
   ]
  },
  {
   "cell_type": "code",
   "execution_count": null,
   "metadata": {},
   "outputs": [],
   "source": []
  },
  {
   "cell_type": "code",
   "execution_count": null,
   "metadata": {},
   "outputs": [],
   "source": []
  }
 ],
 "metadata": {
  "@webio": {
   "lastCommId": null,
   "lastKernelId": null
  },
  "hide_input": false,
  "kernelspec": {
   "display_name": "Python 3",
   "language": "python",
   "name": "python3"
  },
  "language_info": {
   "codemirror_mode": {
    "name": "ipython",
    "version": 3
   },
   "file_extension": ".py",
   "mimetype": "text/x-python",
   "name": "python",
   "nbconvert_exporter": "python",
   "pygments_lexer": "ipython3",
   "version": "3.8.2"
  },
  "toc": {
   "base_numbering": 1,
   "nav_menu": {},
   "number_sections": true,
   "sideBar": true,
   "skip_h1_title": false,
   "title_cell": "Table of Contents",
   "title_sidebar": "Contents",
   "toc_cell": false,
   "toc_position": {},
   "toc_section_display": true,
   "toc_window_display": true
  },
  "varInspector": {
   "cols": {
    "lenName": 16,
    "lenType": 16,
    "lenVar": 40
   },
   "kernels_config": {
    "python": {
     "delete_cmd_postfix": "",
     "delete_cmd_prefix": "del ",
     "library": "var_list.py",
     "varRefreshCmd": "print(var_dic_list())"
    },
    "r": {
     "delete_cmd_postfix": ") ",
     "delete_cmd_prefix": "rm(",
     "library": "var_list.r",
     "varRefreshCmd": "cat(var_dic_list()) "
    }
   },
   "types_to_exclude": [
    "module",
    "function",
    "builtin_function_or_method",
    "instance",
    "_Feature"
   ],
   "window_display": false
  }
 },
 "nbformat": 4,
 "nbformat_minor": 4
}
